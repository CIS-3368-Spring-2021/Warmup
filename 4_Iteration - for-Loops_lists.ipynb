{
 "cells": [
  {
   "cell_type": "markdown",
   "metadata": {
    "collapsed": true
   },
   "source": [
    "<b><font size = \"6\">Iteration: for-Loops, lists</font></b>"
   ]
  },
  {
   "cell_type": "markdown",
   "metadata": {},
   "source": [
    "<b><font size = \"5\">Using for-loops and lists in Python</font></b>\n",
    "<br><br>\n",
    "\n",
    "It is often necessary to deal with data consisting of collections of values\n",
    "e.g.  might compute trajectory of missile as its position (x;y coords) or at a series of time points. This gives a sequence of values.\n",
    "\n",
    "<img width=\"300\" src=\"files/arc_graph.png\">\n",
    "\n",
    "In Python, such data is stored as a **list**. A *list* is a single variable which can hold many values. A single Python list may mix together values of different types, e.g. strings and integers such as **[\"some string\", 3.55, \"this\", 2]**, and it is inherently ordered. The *empty list* (i.e. which contains no items) is **[ ]**. List items can be accessed by their *position* in the list, with index values from *0* to *(n - 1)* for a list of length *n*. As you can see in the cell below, accessing a non-existent position results in an error."
   ]
  },
  {
   "cell_type": "code",
   "execution_count": null,
   "metadata": {},
   "outputs": [],
   "source": [
    "x = ['this', 55, 'that']\n",
    "print (x[0])\n",
    "print (x[1])\n",
    "print (x[3])"
   ]
  },
  {
   "cell_type": "markdown",
   "metadata": {},
   "source": [
    "<b><font size = \"5\">1) Python Lists and for-loops</font></b>\n",
    "<br>\n",
    "\n",
    "As the example below shows, a list can be changed, with values at existing positions being overwritten, or with a list being made shorter or longer, as in the example (where **append** is used to 'grow' a list)."
   ]
  },
  {
   "cell_type": "code",
   "execution_count": null,
   "metadata": {},
   "outputs": [],
   "source": [
    "# Run this cell to see how to modify the number of elements in the list or how to replace one of them\n",
    "\n",
    "x = ['aa', 'bb', 'cc']\n",
    "x[1] = 33\n",
    "print (x)\n",
    "\n",
    "x.append('dd')\n",
    "print (x)"
   ]
  },
  {
   "cell_type": "markdown",
   "metadata": {},
   "source": [
    "We can use + to compute the concatenation of two lists."
   ]
  },
  {
   "cell_type": "code",
   "execution_count": null,
   "metadata": {},
   "outputs": [],
   "source": [
    "x = ['the', 'cat', 'sat']\n",
    "y = ['on', 'the', 'mat']\n",
    "z = x + y\n",
    "print (z)"
   ]
  },
  {
   "cell_type": "markdown",
   "metadata": {},
   "source": [
    "We can also take a slice of a list, using two indices: **[i:j]** A slice starts with item at index *i*, plus items up to (but not including) *j*."
   ]
  },
  {
   "cell_type": "code",
   "execution_count": null,
   "metadata": {},
   "outputs": [],
   "source": [
    "z = ['the', 'cat', 'sat', 'on', 'the', 'mat']\n",
    "print (z[3:10])\n",
    "print (z[8:10])"
   ]
  },
  {
   "cell_type": "markdown",
   "metadata": {},
   "source": [
    "There is an alternative sequence type in Python, the **tuple**. This is written with round brackets\n",
    "\n",
    "    ('this', 55)\n",
    "\n",
    "They are like Python list, ordered and allow access by index **but** they cannot be changed, i.e. you cannot assign new value to a position in an existing tuple and you cannot append to an existing tuple. They are more memory efficient (though that is not a big concern here).\n",
    "\n",
    "### for-loops ###\n",
    "\n",
    "Recall the two types of loops, *conditional* (\"while\") and *counting* (\"for\"), introduced in the previous notebook to allow for repetition control structures. The **for loop** construct widely used to implement counting loops. In most languages, for loop has an explicit loop variable, whose value counts in fixed steps from an initial value to a final value. When the final value is reached, the loop stops. For example, var *i*, counting 0, 1, . . . , 9. A loop variable may be used within the loop e.g. as an index, to access successive elements of an array, but there is no explicit counting in Python."
   ]
  },
  {
   "cell_type": "markdown",
   "metadata": {},
   "source": [
    "Often, **for**-loops are used together with a list in the pattern below. This loop will repeat as many times as there are items in **LIST**, with **VAR** being assigned each member of **LIST** in turn as its value. This kind of *iteration* is fine for many purposes. However, to *change* the values in the list, we must access the positions by *index*, for which we use the **range** function, to generate a list of the index positions. \n",
    "\n",
    "   <table border=\"1\" style=\"width:auto\">\n",
    "      <tr>\n",
    "        <td>for VAR in LIST:\n",
    "            <pre>CODE-BLOCK</pre>\n",
    "        </td>\n",
    "        </tr>\n",
    "   </table>"
   ]
  },
  {
   "cell_type": "markdown",
   "metadata": {},
   "source": [
    "If we look at the informal *while*-loop supermarket shopping pseudo code from the previous notebook\n",
    "\n",
    "    1. Get a trolley\n",
    "    2. While there are items on shopping list\n",
    "        2.1 Read first item on shopping list\n",
    "        2.2 Get that item from shelf\n",
    "        2.3 Put item in trolley\n",
    "        2.4 Cross item off shopping list\n",
    "    3. Pay at checkout\n",
    "    \n",
    "we can rewrite this with the corresponding *for* loop pseudo code\n",
    "\n",
    "    1. Get a trolley\n",
    "    2. For (each) item on shopping list\n",
    "        2.1 Get item from shelf\n",
    "        2.2 Put item in trolley\n",
    "    3. Pay at checkout"
   ]
  },
  {
   "cell_type": "code",
   "execution_count": null,
   "metadata": {},
   "outputs": [],
   "source": [
    "# Run this cell and experiment, so you understand what's going on\n",
    "\n",
    "values = [875, 23, 451]\n",
    "for val in values:\n",
    "    print ('-->', val)\n",
    "\n",
    "print (\"\\n\")"
   ]
  },
  {
   "cell_type": "markdown",
   "metadata": {},
   "source": [
    "We can iterate over other types, such as *tuples* or *strings*:"
   ]
  },
  {
   "cell_type": "code",
   "execution_count": null,
   "metadata": {},
   "outputs": [],
   "source": [
    "for char in \"Yes\":\n",
    "    print (char)"
   ]
  },
  {
   "cell_type": "markdown",
   "metadata": {},
   "source": [
    "More generally, various types demonstrate iterable behaviour, and can appear in a *for* loop.\n",
    "\n",
    "While this way of accessing accessing items in a list is sufficient for many tasks, such as scanning list to search for a particular value or computing sum of values in list of numbers:"
   ]
  },
  {
   "cell_type": "code",
   "execution_count": null,
   "metadata": {},
   "outputs": [],
   "source": [
    "# total += val means same as total = total + val\n",
    "\n",
    "values = [3, 12, 9]\n",
    "total = 0\n",
    "for val in values:\n",
    "    total += val\n",
    "print ('TOTAL:', total)"
   ]
  },
  {
   "cell_type": "markdown",
   "metadata": {},
   "source": [
    "Sometimes, it will be necessary to address list items by index, e.g. if have a list of \n",
    "numbers and want to increment each by 1, i.e. so can change list values. For this, we have\n",
    "the *range* function and use it to generate list of integers for index positions."
   ]
  },
  {
   "cell_type": "code",
   "execution_count": null,
   "metadata": {},
   "outputs": [],
   "source": [
    "# Python 3.x: range() function got its own type\n",
    "\n",
    "# range has to be converted to a list\n",
    "print (list(range(3)))        # single arg = 'end' value\n",
    "print (list(range(2,6)))      # `start' value also given\n",
    "print (list(range(1,10,3)))   # 3rd arg specifies 'step' size\n",
    "\n",
    "# Incrementing values in a list by 1\n",
    "vals = [8, 12, 10, 34]\n",
    "print (len(vals))\n",
    "print (list(range(len(vals))))\n",
    "for i in range(len(vals)):\n",
    "    vals[i] = vals[i] + 1\n",
    "print (vals)\n",
    "\n",
    "# What does this do?\n",
    "for i in range(len(vals)):\n",
    "    vals[i] = vals[i] * 2\n",
    "print (vals)"
   ]
  },
  {
   "cell_type": "markdown",
   "metadata": {},
   "source": [
    "Loop control commands **break** and **continue** also work with *for* loops and modify the normal flow of a loop. A *break* statement in a loop immediately terminates the current iteration and ends the loop overall. A *continue* statement in a loop immediately terminates\n",
    "the current iteration and starts the next iteration - i.e. in a for loop, this causes the loop to move on to next item of iteration. For example, we could use a *for* loop to scan for sought item, and use break to end scan if it is found. What does the following do and why is 14 not output?"
   ]
  },
  {
   "cell_type": "code",
   "execution_count": null,
   "metadata": {},
   "outputs": [],
   "source": [
    "nums = [1,3,8,7,15,14]\n",
    "\n",
    "for n in nums:\n",
    "    if n % 7 == 0:\n",
    "        print ('found:', n)\n",
    "        break"
   ]
  },
  {
   "cell_type": "markdown",
   "metadata": {},
   "source": [
    "## Exercises\n",
    "\n",
    "<b><font size = \"4\">I) Sum of a list of numbers/Triangular number</font></b>\n",
    "<br>\n",
    "\n",
    "Define a function **sum_list**, which takes one argument, a list of numbers, and *which uses* a **for**-*loop* to compute (and return) the sum of these numbers, e.g. so that **sum_list([3,4,5])** should return 12."
   ]
  },
  {
   "cell_type": "code",
   "execution_count": null,
   "metadata": {
    "collapsed": true
   },
   "outputs": [],
   "source": [
    "# Insert here your definition for sum_list function"
   ]
  },
  {
   "cell_type": "markdown",
   "metadata": {},
   "source": [
    "Define a function *which uses* a **for**-*loop* to compute (and return) *triangular numbers*. For a positive integer *n*, this is the sum of values from n down to one, i.e. *n + (n - 1) + ... + 2 + 1*.)"
   ]
  },
  {
   "cell_type": "code",
   "execution_count": null,
   "metadata": {
    "collapsed": true
   },
   "outputs": [],
   "source": [
    "# Insert here your code for triangular numbers"
   ]
  },
  {
   "cell_type": "markdown",
   "metadata": {},
   "source": [
    "<b><font size = \"4\">II) List of squares / triangulars</font></b>\n",
    "<br>\n",
    "\n",
    "Define a function **square_list**, which takes a list of numbers as its argument, and which computes (and returns) a list like the first, but with the values squared, e.g. so that **square_list([3,4,5])** returns **[9,16,25]**. **NOTE**: your definition *should not change the value of the original list*, i.e. if we call **square_list(x)** when **x = [3,4,5]**, then **x** should still be **[3,4,5]** after the call (check this!). We can copy a list using the **list** function, e.g. **y = list(x)** creates a copy of list **x**."
   ]
  },
  {
   "cell_type": "code",
   "execution_count": null,
   "metadata": {
    "collapsed": true
   },
   "outputs": [],
   "source": [
    "# Insert here your definition for square_list function"
   ]
  },
  {
   "cell_type": "markdown",
   "metadata": {},
   "source": [
    "Next define a function **triangular_list**, which is similar to **square_list**, except that the numbers in the new list are the triangular numbers of the original values. Your definition should compute the triangular numbers <u>by calling the function you have defined in the cell above</u>."
   ]
  },
  {
   "cell_type": "code",
   "execution_count": null,
   "metadata": {
    "collapsed": true
   },
   "outputs": [],
   "source": [
    "# Insert here your definition for triangular_list function"
   ]
  }
 ],
 "metadata": {
  "kernelspec": {
   "display_name": "Python 3",
   "language": "python",
   "name": "python3"
  },
  "language_info": {
   "codemirror_mode": {
    "name": "ipython",
    "version": 3
   },
   "file_extension": ".py",
   "mimetype": "text/x-python",
   "name": "python",
   "nbconvert_exporter": "python",
   "pygments_lexer": "ipython3",
   "version": "3.8.5"
  }
 },
 "nbformat": 4,
 "nbformat_minor": 1
}
