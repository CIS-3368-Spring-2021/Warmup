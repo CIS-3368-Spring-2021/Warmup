{
 "cells": [
  {
   "cell_type": "markdown",
   "metadata": {},
   "source": [
    "<b><font size = \"6\">Algorithms, control and conditionals</font></b>"
   ]
  },
  {
   "cell_type": "markdown",
   "metadata": {},
   "source": [
    "<b><font size = \"5\">Conditionals and Functions</font></b>\n",
    "<br>"
   ]
  },
  {
   "cell_type": "markdown",
   "metadata": {},
   "source": [
    "The aim of this notebook is to explain the idea of a program and algorithm, and give you experience of using conditional statements in Python, and in structuring code through the use of functions. You will write a program which simulates some of the behaviour of a *cashpoint machine* or ATM. \n",
    "\n",
    "In this notebook you will develop three definitions of the same **cashpoint function**, each time adding more to it and making it resemble an actual ATM. For the last definition of **cashpoint** you will develop other 2 functions that will help you in creating a more realistic version of an ATM. A couple of functions have been provided for the last part of this notebook."
   ]
  },
  {
   "cell_type": "markdown",
   "metadata": {},
   "source": [
    "### Functions revisited ###\n",
    "\n",
    "In the previous tutorial, we mentioned that we usually want functions to *return* (hand back) their values rather than printing them, as this allows the result to be used elsewhere. We use the keyword *return* to do this, which we can then assign to some variable:"
   ]
  },
  {
   "cell_type": "code",
   "execution_count": 9,
   "metadata": {},
   "outputs": [
    {
     "data": {
      "text/plain": [
       "16.0"
      ]
     },
     "execution_count": 9,
     "metadata": {},
     "output_type": "execute_result"
    }
   ],
   "source": [
    "def convertDistance(miles):\n",
    "    kilometers = (miles * 8) / 5\n",
    "    return kilometers\n",
    "\n",
    "k = convertDistance(10)\n",
    "\n",
    "k"
   ]
  },
  {
   "cell_type": "markdown",
   "metadata": {},
   "source": [
    "Python functions *always* return a value, even if there is no explicit *return* command. In this case, the function returns **None**, a special Python null value. Executing a return command *always* terminates the function call and it can be used for the specific purpose of terminating a function. Note that *return* can be used on its own (with no value specified) - in this case, the function returns *None* by default. Since return always terminates a function call, a function body such as the following does not make sense -- the second return command will never be reached."
   ]
  },
  {
   "cell_type": "code",
   "execution_count": 2,
   "metadata": {},
   "outputs": [],
   "source": [
    "def myfunction():\n",
    "    return 1\n",
    "    return 2"
   ]
  },
  {
   "cell_type": "markdown",
   "metadata": {},
   "source": [
    "It is important to note that *print* cannot be used in place of *return*. Although the behaviour may appear similar, we cannot get hold of the value as it was only sent to screen."
   ]
  },
  {
   "cell_type": "code",
   "execution_count": 17,
   "metadata": {},
   "outputs": [
    {
     "name": "stdout",
     "output_type": "stream",
     "text": [
      "10\n"
     ]
    }
   ],
   "source": [
    "# Following definition has print instead of return\n",
    "\n",
    "def convertDistance(miles):\n",
    "    kilometers = (miles * 8) / 5\n",
    "    print (kilometers)\n",
    "    \n",
    "# Behaviour may appear similar\n",
    "\n",
    "convertDistance(10)\n",
    "\n",
    "# But the value was just sent to screen\n",
    "\n",
    "k = convertDistance(22)\n",
    "\n",
    "print(k)"
   ]
  },
  {
   "cell_type": "markdown",
   "metadata": {},
   "source": [
    "### Programs and Algorithms ###\n",
    "\n",
    "A computer program is a set of instructions that tell a computer how to carry out a task. The instructions are written in a special formal language, a *programming language*. In order to solve a programming problem, we need a step-by-step specification of the actions that must be taken to compute result. This specification is called an algorithm.\n",
    "\n",
    "An algorithm should be:\n",
    "* precise and unambiguous\n",
    "* correct, i.e. finish and deliver correct result\n",
    "* efficient, but this depends on task\n",
    "\n",
    "Same algorithm can be implemented in dfferent languages, or even stated in (pseudo) English  - this tends to describe more the general algorithm idea than a specific piece of code and is known as pseudocode. For example, consider:\n",
    "\n",
    "**Task**: *making a cup of (instant) coffee*\n",
    "    1. Fill kettle\n",
    "    2. Boil kettle\n",
    "    3. Put spoon of coffee in cup\n",
    "    4. Fill cup (nearly) with water from kettle\n",
    "    5. Add a dash of milk\n",
    "\n",
    "This algorithm is just a single fixed sequence of actions, but we can handle more complex tasks by allowing:\n",
    "* *conditionals*: actions that happen only under certain conditions\n",
    "* *loops*:  (groups of) actions that repeat over until result achieved\n",
    "\n",
    "**Task**: *supermarket shopping*\n",
    "    1. Get a trolley\n",
    "    2. While there are items on shopping list\n",
    "        1. Read first item on shopping list\n",
    "        2. Get that item from shelf\n",
    "        3. Put item in trolley\n",
    "        4. Cross item off shopping list\n",
    "    3. Pay at checkout\n",
    "\n",
    "**Task**: *student supermarket shopping !!*\n",
    "    1. Get a trolley\n",
    "    2. While there are items on shopping list\n",
    "        1. Read first item on shopping list\n",
    "        2. Get that item from shelf\n",
    "        3. IF item costs less than £3\n",
    "            1. Put item in trolley\n",
    "        4. ELSE\n",
    "            1. Put item back on shelf\n",
    "        5. Cross item off shopping list\n",
    "    3. Pay at checkout\n",
    "    \n",
    "### Control structures ###\n",
    "    \n",
    "The way that program execution moves from statement to the next is called the **flow of control** within a program. There are three major control structures: *sequence*, *selection* and *repetition*.\n",
    "\n",
    "- **Sequence**: simply do one statement after the next\n",
    "\n",
    "<img src=\"files/control_sequence1.png\">\n",
    "\n",
    "- **Selection**: flow of control is determined by a simple decision\n",
    "\n",
    "<img src=\"files/control_selection1.png\">\n",
    "\n",
    "- **Repetition**: execute a statement or block of statements more than once\n",
    "\n",
    "<img src=\"files/control_repetition1.png\">\n",
    "\n",
    "### Booleans ###\n",
    "\n",
    "We have already seen Python basic types such as *integer* and *float*. A further basic type is a **boolean** which can only take one of two values *True* or *False*. Similarly, a **boolean expression** is one that evaluates to either *True* or *False*. The decision of a *selection structure* is typically formulated as a *boolean expression*. Simple boolean expressions commonly involve a comparison operator:\n",
    "\n",
    "    ==  : equal to\n",
    "    >   : greater than\n",
    "    >=  : greater than or equal to\n",
    "    <   : less than\n",
    "    <=  : less than or equal to\n",
    "    !=  : not equal to\n",
    "    \n",
    "Some examples are shown in the cell below. **Beware**: it's easy to use \"==\" in place of \"=\", and vice versa - this is a very common coding error."
   ]
  },
  {
   "cell_type": "code",
   "execution_count": 4,
   "metadata": {},
   "outputs": [
    {
     "name": "stdout",
     "output_type": "stream",
     "text": [
      "True\n",
      "True\n",
      "False\n",
      "True\n",
      "True\n",
      "True\n"
     ]
    }
   ],
   "source": [
    "print (3 == 3)\n",
    "print (\"this\" == 'this')\n",
    "print (3 >= 4)\n",
    "print (3 >= 2)\n",
    "print (5 != 3)\n",
    "print (5 != 'some string')"
   ]
  },
  {
   "cell_type": "markdown",
   "metadata": {},
   "source": [
    "We can form *more complex conditions* by using *boolean operators*. They are: **and**, **or** and **not**. Given boolean expressions E1, E2 the following holds:\n",
    "\n",
    "- **E1 and E2**\n",
    "    - is True if *both* E1 *and* E2 are True, and False otherwise\n",
    "- **E1 or E2**\n",
    "    - is True if *either* E1 *or* E2 are True, and False otherwise\n",
    "- **not E1**\n",
    "    - is True if E1 is False, and True otherwise\n",
    "\n",
    "You can see an example in the cell below: testing for teenagers!"
   ]
  },
  {
   "cell_type": "code",
   "execution_count": 5,
   "metadata": {},
   "outputs": [
    {
     "name": "stdout",
     "output_type": "stream",
     "text": [
      "True False\n"
     ]
    }
   ],
   "source": [
    "age1 = 15\n",
    "isaTeen1 = age1 >= 13 and age1 <= 19\n",
    "age2 = 22\n",
    "isaTeen2 = age2 >= 13 and age2 <= 19\n",
    "print(isaTeen1, isaTeen2)"
   ]
  },
  {
   "cell_type": "markdown",
   "metadata": {
    "collapsed": true
   },
   "source": [
    "### Conditionals ###\n",
    "\n",
    "Conditionals\n",
    "\u000F\n",
    "**Selection** control structures are achieved by use of *if-else* constructions which are known as *conditionals*.\n",
    "\n",
    "Key form:\n",
    "\n",
    "    if CONDITION:\n",
    "        CODE-BLOCK-1\n",
    "    else:\n",
    "        CODE-BLOCK-2\n",
    "\n",
    "For example:"
   ]
  },
  {
   "cell_type": "code",
   "execution_count": 20,
   "metadata": {},
   "outputs": [
    {
     "name": "stdout",
     "output_type": "stream",
     "text": [
      "Congratulations!\n",
      "You're an adult!\n",
      "You're an child!\n"
     ]
    }
   ],
   "source": [
    "age = 21\n",
    "\n",
    "if age >= 18:\n",
    "    print (\"Congratulations!\")\n",
    "    print (\"You're an adult!\")\n",
    "else:\n",
    "    print (\"Even better!\")\n",
    "print (\"You're an child!\")"
   ]
  },
  {
   "cell_type": "markdown",
   "metadata": {},
   "source": [
    "The *else* is optional and can be omitted if it is not needed:"
   ]
  },
  {
   "cell_type": "code",
   "execution_count": 7,
   "metadata": {},
   "outputs": [
    {
     "name": "stdout",
     "output_type": "stream",
     "text": [
      "Warning!\n",
      "Time to bail out.\n"
     ]
    }
   ],
   "source": [
    "altitude = 50\n",
    "\n",
    "if altitude < 100:\n",
    "    print (\"Warning!\")\n",
    "    print (\"Time to bail out.\")"
   ]
  },
  {
   "cell_type": "markdown",
   "metadata": {},
   "source": [
    "We can also chain a series of cases, using keyword *elif*, e.g.:"
   ]
  },
  {
   "cell_type": "code",
   "execution_count": 8,
   "metadata": {},
   "outputs": [
    {
     "name": "stdout",
     "output_type": "stream",
     "text": [
      "adult\n"
     ]
    }
   ],
   "source": [
    "if age < 13:\n",
    "    print ('child')\n",
    "elif age < 18:\n",
    "    print ('teen')\n",
    "elif age < 65:\n",
    "    print ('adult')\n",
    "else:\n",
    "    print ('pensioner')"
   ]
  },
  {
   "cell_type": "markdown",
   "metadata": {},
   "source": [
    "Note that order of the cases in such an example matters - reordering them gives incorrect behaviour. What'll the following (reordered) set of clauses do?"
   ]
  },
  {
   "cell_type": "code",
   "execution_count": 9,
   "metadata": {},
   "outputs": [
    {
     "name": "stdout",
     "output_type": "stream",
     "text": [
      "adult\n"
     ]
    }
   ],
   "source": [
    "if age < 65:\n",
    "    print ('adult')\n",
    "elif age < 18:\n",
    "    print ('teen')\n",
    "elif age < 13:\n",
    "    print ('child')\n",
    "else:\n",
    "    print ('pensioner')"
   ]
  },
  {
   "cell_type": "markdown",
   "metadata": {},
   "source": [
    "### Exercise (finish at home): ATM simulation ###\n",
    "\n",
    "The following flowchart shows the underlying logic of the system you will implement for the simulation of an ATM:\n",
    "\n",
    "<img src =\"files/flow.png\">"
   ]
  },
  {
   "cell_type": "markdown",
   "metadata": {},
   "source": [
    "<font size = \"4\">***I) Useful tips on programming and debugging***</font> \n",
    "\n",
    "This notebook requires you to write some reasonable amount of code, that you must produce for yourself from scratch. Here are some tips on how to proceed, both with *programming* (i.e. writing code) and with *debugging*, which is the task of finding errors in the code you have written, or figuring out why it doesn't behave as you expect.\n",
    "\n",
    "<ol>\n",
    "    <li>\n",
    "    When writing a larger program, it is good to proceed *incrementally*, i.e. to save and test (i.e. run) your code each time you make a significant change. Doing so makes it easier to identify and resolve errors at each stage. This is much easier than trying to write your code in one go, and then discovering that you have a large number of errors to fix.\n",
    "    </li>\n",
    "    <br>\n",
    "    <li>\n",
    "    When your code is only partly written, you might find it useful to put print statements in place of code blocks that are not yet written. This can allow you to run your incomplete code, so as to observe whether execution proceeds as you expect, even though some of the code is not yet in place. For example, if you're writing a conditional if-else structure, you might start by putting a print statement for the else code block, allowing you to get on with writing and testing the if code block.\n",
    "    </li>\n",
    "    <br>\n",
    "    <li>\n",
    "    If Python prints an error message when you test your code, study the error message: it may help you discover the problem in your code, e.g. pointing out a syntactic error.\n",
    "    </li>\n",
    "    <br>\n",
    "    <li>\n",
    "    Print statements can be used in various ways to help you understand why your code is not working as you intended:\n",
    "        <ul>\n",
    "            <li>\n",
    "            For example, you can print out a value computed as part of some larger task as a way to check that it has been computed correctly.\n",
    "            </li>\n",
    "            <br>\n",
    "            <li>\n",
    "            You can add print statements that signal whether the IF or ELSE case of a conditional has been followed as you expect. If the wrong case is followed, you may have specified the condition incorrectly, or incorrectly calculated one of the values being tested.\n",
    "            </li>\n",
    "            <br>\n",
    "            <li>\n",
    "            Print statements can also help you find the source of an error, when you are having trouble locating this, e.g. if your code exits in a way you don't expect and you can't see why. In this case, it may be useful to add print statements are various points, printing strings such as \"*POINT-1*\", \"*POINT-2*\", etc. If there are, say, four such statements, but only the first two messages get printed, this suggests the error is located in the part of your code between the second and third print statements.\n",
    "            </li>\n",
    "        </ul>\n",
    "    </li>\n",
    "    <br>\n",
    "    <li>\n",
    "    Finally, don't forget the critical importance of correct indentation in Python programming. Pressing TAB 'indentation zone', will cause the cursor to move in or out one level of indentation.\n",
    "    </li>\n",
    "</ol>"
   ]
  },
  {
   "cell_type": "markdown",
   "metadata": {},
   "source": [
    "<font size = \"4\">***II) The programming task***</font> \n",
    "\n",
    "The envisaged scenario is that a bank user approaches the ATM and inserts their card. We imagine that the ATM then reads the card details and uses them to access key information from the bank's central computer, namely: \n",
    "   <ul>\n",
    "       <li>the card owner's true PIN</li>\n",
    "       <br>\n",
    "       <li>their current balance</li>\n",
    "   </ul>\n",
    "\n",
    "The ATM then calls the code that you will write, which checks that the user knows the correct PIN, and if so, then provides ATM services to the user.\n",
    "\n",
    "The following contains contains a 'dummy' (i.e. empty) definition of the cashpoint function, which consists of a single print statement (which prints a message that the function has not yet been defined). It is your task to complete this function \n",
    "definition , so as to implement the system described by the flowchart.\n",
    "\n",
    "   <table border=\"1\" style=\"width:auto\">\n",
    "      <tr>\n",
    "        <td><i>Cashpoint function</i>\n",
    "        <br>\n",
    "        <i>Takes two parameters: the card PIN and the balance of the account</i>\n",
    "        <br><br>\n",
    "        <b>def cashpoint(truepin,balance):</b>\n",
    "            <pre>print (\"CASHPOINT FUNCTION: not yet defined\")</pre>            \n",
    "        </td>\n",
    "        </tr>\n",
    "   </table>"
   ]
  },
  {
   "cell_type": "markdown",
   "metadata": {},
   "source": [
    "The next cell contains some test cases. If you run this cell, it will call the previously defined function, cashpoint with \n",
    "different parameters i.e. specifying different PIN numbers and different current balances. \n",
    "\n",
    "Note how the result 'returned' by the function call is here assigned to a variable (result), so that it can subsequently be printed out (in the next line of the cell). This doesn't make much sense at this stage, as the function is not yet written to return a result, but it will be useful later on. A function that does not specifically return a result instead returns None (which is a special null value in Python), and it is this value that is printed when the cell is run. Run the tests now, to check if it runs as you expect."
   ]
  },
  {
   "cell_type": "code",
   "execution_count": 21,
   "metadata": {},
   "outputs": [
    {
     "name": "stdout",
     "output_type": "stream",
     "text": [
      "TEST-EXAMPLE 1\n",
      "CASHPOINT FUNCTION: not yet defined\n",
      "---------\n",
      "RESULT: None\n",
      "-------------------------------------------------- \n",
      "\n",
      "TEST-EXAMPLE 2\n",
      "CASHPOINT FUNCTION: not yet defined\n",
      "---------\n",
      "RESULT: None\n",
      "-------------------------------------------------- \n",
      "\n",
      "TEST-EXAMPLE 3\n",
      "CASHPOINT FUNCTION: not yet defined\n",
      "---------\n",
      "RESULT: None\n",
      "-------------------------------------------------- \n",
      "\n"
     ]
    }
   ],
   "source": [
    "# Dummy definition of the cashpoint function\n",
    "def cashpoint(truepin, balance):\n",
    "    print (\"CASHPOINT FUNCTION: not yet defined\")\n",
    "\n",
    "# Test calls to program:\n",
    "\n",
    "print ('TEST-EXAMPLE 1')\n",
    "result = cashpoint('1234',3415.55)\n",
    "print ('---------\\nRESULT:', result)\n",
    "print ('-' * 50, '\\n')\n",
    "\n",
    "print ('TEST-EXAMPLE 2')\n",
    "result = cashpoint('2345',2200.00)\n",
    "print ('---------\\nRESULT:', result)\n",
    "print ('-' * 50, '\\n')\n",
    "\n",
    "print ('TEST-EXAMPLE 3')\n",
    "result = cashpoint('3456',175.55)\n",
    "print ('---------\\nRESULT:', result)\n",
    "print ('-' * 50, '\\n')"
   ]
  },
  {
   "cell_type": "markdown",
   "metadata": {},
   "source": [
    "<font size = \"4\">***III) Thinking through the problem logic***</font> \n",
    "\n",
    "Look again at the flowchart from the beginning of the notebook. Using this information, you can write down the logical\n",
    "steps that the your code must follow, when the cashpoint function that you are defining is called.\n",
    "\n",
    "<ol>\n",
    "    <li>Ask the user to input their PIN.</li>\n",
    "    <li>Check whether the PIN value entered matches the true PIN (i.e. the value given in the function call, such '1234' above). If they match, then continue as below, otherwise print a suitable message and finish.</li>\n",
    "    <li>Ask the user to choose their transaction, by printing a numbered list of options, and reading the value entered by the user.</li>\n",
    "    <li>If the input is 1 (for balance request), print the balance information, and exit.</li>\n",
    "    <li>If the input is 2 (for a withdrawal), ask the user for the withdrawal amount, report the\n",
    "adjusted balance sum, and exit.</li>\n",
    "    <li>If the input is 3 (for mobile phone top-up), then (for now) just print a message that the\n",
    "service is unvailable, and exit.</li>\n",
    "    <li>If the input is something else, then print a suitable message and exit.</li>\n",
    "</ol>\n",
    "\n",
    "<br>\n",
    "<font size = \"4\">***IV) A first attempt in Python***</font> \n",
    "<br>\n",
    "Next, have a go a writing a first definition of the cashpoint function, completing the dummy definition given above. Some hints:\n",
    "\n",
    "<ol>\n",
    "    <li>\n",
    "    Where the user is required to provide input (e.g. PIN, transaction choice, or withdrawal amount), you can use the input function. \n",
    "    <br><br>\n",
    "    NOTE that the call to the cashpoint function specifies the correct PIN as a STRING (of digits), rather than as a number (i.e. an integer). This choice was made avoid problems that could otherwise arise for PINs beginning with '0'.\n",
    "    </li>\n",
    "    <br>\n",
    "    <li>\n",
    "    Where there is a choice of how to proceed, e.g. what to do depending on whether the PIN values match, you can use an if-else conditional statement. Where there are more than two options (w.r.t. transaction type), you might use an if-elif-else statement.\n",
    "    </li>\n",
    "</ol>"
   ]
  },
  {
   "cell_type": "code",
   "execution_count": 11,
   "metadata": {},
   "outputs": [
    {
     "ename": "SyntaxError",
     "evalue": "unexpected EOF while parsing (<ipython-input-11-eb1a3b0ce9eb>, line 13)",
     "output_type": "error",
     "traceback": [
      "\u001B[0;36m  File \u001B[0;32m\"<ipython-input-11-eb1a3b0ce9eb>\"\u001B[0;36m, line \u001B[0;32m13\u001B[0m\n\u001B[0;31m    else:\u001B[0m\n\u001B[0m         ^\u001B[0m\n\u001B[0;31mSyntaxError\u001B[0m\u001B[0;31m:\u001B[0m unexpected EOF while parsing\n"
     ]
    }
   ],
   "source": [
    "# Start developing in this cell the dummy cashpoint function from above\n",
    "# Taking the input from users (PIN and option) has been handled\n",
    "# You have to finish the definition by printing out information for each option that can be selected\n",
    "\n",
    "def cashpoint(truepin,balance):\n",
    "    pinAttempt = int(input('Please enter your PIN: '))\n",
    "    if pinAttempt == truepin:\n",
    "        print (\"\\nPlease choose your transaction type\")\n",
    "        print (\"   - to request a balance  - enter 1\")\n",
    "        print (\"   - to make a withdrawal  - enter 2\")\n",
    "        print (\"   - to top-up a telephone - enter 3\")\n",
    "        transactionType = float(input('\\nEnter your choice: '))\n",
    "    else:"
   ]
  },
  {
   "cell_type": "code",
   "execution_count": null,
   "metadata": {},
   "outputs": [],
   "source": [
    "# Test calls for the new cashpoint function\n",
    "\n",
    "print ('TEST-EXAMPLE 1')\n",
    "result = cashpoint('1234',3415.55)\n",
    "print ('---------\\nRESULT:', result)\n",
    "print ('-' * 50, '\\n')\n",
    "\n",
    "print ('TEST-EXAMPLE 2')\n",
    "result = cashpoint('2345',2200.00)\n",
    "print ('---------\\nRESULT:', result)\n",
    "print ('-' * 50, '\\n')\n",
    "\n",
    "print ('TEST-EXAMPLE 3')\n",
    "result = cashpoint('3456',175.55)\n",
    "print ('---------\\nRESULT:', result)\n",
    "print ('-' * 50, '\\n')"
   ]
  },
  {
   "cell_type": "markdown",
   "metadata": {},
   "source": [
    "<font size = \"4\">***V) A more realistic definition: using return ***</font> \n",
    "<br>\n",
    "If you have written it well, your first definition of the cashpoint function may display a reasonable version of the visible behaviour we might expect, i.e. of the pattern of interaction of a user with the ATM. However, it would not be much use in a real ATM, as for this purpose, the function would need to return information to the ATM system that called it, so that the ATM would know how to proceed. For example, if the user requested a withdrawal, the ATM would need to know how much money to issue before returning the user's card. If the PIN was entered incorrectly, then the ATM should know to give back (or perhaps withhold) the user's card, etc.\n",
    "\n",
    "To add this functionality to our code, we can use return statements. As we saw in the PDFs, a return statement in a function has the form \"return <value>\". When executed, it causes the function's execution to terminate at this point, with the specified value being returned. For example, the following function tests if a number is positive (greater than or equal to 0), and returns (or gives back) the value *True* if it is, or otherwise gives back the value *False*."
   ]
  },
  {
   "cell_type": "code",
   "execution_count": null,
   "metadata": {},
   "outputs": [],
   "source": [
    "# Positivity function \n",
    "\n",
    "def is_positive(n):\n",
    "    if n >= 0:\n",
    "        return True\n",
    "    else:\n",
    "        return False\n",
    "    \n",
    "print (is_positive(3))\n",
    "\n",
    "print (is_positive(-2))\n",
    "\n",
    "result = is_positive(5)\n",
    "print (result)"
   ]
  },
  {
   "cell_type": "markdown",
   "metadata": {},
   "source": [
    "Extend your code by adding return statements to the *cashpoint* function you developed above, so that it returns, to the system that has called it, a value that provides the system with the information it needs to proceed. For some cases, this returned value can be a single string, such as (e.g.) \"PIN-error\" or \"balance-request\". For the case of a withdrawal, however, the information must specify both that a withdrawal is\n",
    "requested, but also the amount to be withdrawn. This can be handled by returning the two pieces of information as a pair , i.e. with a return statement such as **return (\"withdrawal-request\",amount)**.\n",
    "\n",
    "Recall from earlier how the code for test calls tries to collect the value returned by the function call, so that it can be printed. Hence, you should now see the results that are returned by your code being printed when the test cell is run."
   ]
  },
  {
   "cell_type": "code",
   "execution_count": null,
   "metadata": {},
   "outputs": [],
   "source": [
    "# Continue working on your cashpoint function by adding return statements\n",
    "# Copy in this cell the first definiton of the cashpoint function that you have worked on above\n",
    "# Add return statements for first options 1 and 2\n",
    "\n",
    "def cashpoint2(truepin,balance):\n",
    "    return \"Remove this statement and work on the function.\""
   ]
  },
  {
   "cell_type": "markdown",
   "metadata": {},
   "source": [
    "<br>\n",
    "<font size = \"4\">***VI) Breaking the task down, using functions as subroutines***</font> \n",
    "\n",
    "Again, before you go any further, save your code with a different name (SimpleCashpoint_v3.py) and work in the new file. The code you have written so far is hopefully fairly readable, but if the functionality is extended much further, it could easily become long-winded and hard to read. For example, a real ATM might allow three attempts at entering the PIN before refusing to continue. It might allow you to conduct several transactions in one visit to the ATM. The amount you are allowed to withdraw is typically restricted, based on various factors (e.g. your current balance, and a maximum daily withdrawal amount). If such behaviour was achieved by further adding and embedding conditionals, then our function de\f",
    "nition could soon be very long indeed.\n",
    "\n",
    "Many programming languages address this problem by allowing users to specify named chunks of code, known as subroutines. A subroutine has the advantage of being reusable in different parts of the program (whilst being specified only once itself), and also by fulfilling a conceptually coherent subtask, making the higher level code that calls it much easier to read. In Python,\n",
    "this idea of subroutines is realised by defining functions. \n",
    "\n",
    "Develop your program by defining sub-functions to package up some of the required functionality. The aim is to give the overall program more complex behaviour, without making the top-level cashpoint function itself much more complicated. Some suggestions for how to proceed follow.\n",
    "\n",
    "<br>\n",
    "<font size = \"4\">***i) PIN testing***</font> \n",
    "\n",
    "Define a function check_PIN to cover the PIN checking part of the task. The function will ask the user to input their PIN, compare this to the true PIN, printing an error message if it is wrong, etc. The function might return a boolean value, i.e. returning *True* if the check succeeds, and *False* otherwise. In that case, a call to this function can appear as the condition of the relevant if-else statement in the cashpoint function, as in the following check_PIN function.\n",
    "\n",
    "Observe how this approach simplifies the definition of the top-level cashpoint function, by delegating some of the work to the check_PIN function, which performs a conceptually coherent subtask. Next, extend the check_PIN function to allow the user three attempts at entering their PIN before final rejection. This can be done by modifying only the definition of the check_PIN function, i.e. without complicating the top-level cashpoint function."
   ]
  },
  {
   "cell_type": "code",
   "execution_count": null,
   "metadata": {},
   "outputs": [],
   "source": [
    "# Fill in the check_PIN and cashpoint functions and test their functionality\n",
    "\n",
    "def cashpoint3(truepin,balance):\n",
    "    if check_PIN(truepin):\n",
    "        return 1\n",
    "        # Case where PIN check succeeds\n",
    "    else:\n",
    "        return 0\n",
    "        # Case where PIN check fails\n",
    "    \n",
    "    \n",
    "def check_PIN(truepin):\n",
    "    return 1\n",
    "    # Code asking user to input their pin\n",
    "    # Returns True or False, depending on success of check\n",
    "\n",
    "\n",
    "# Extra function when developing the check_PIN function\n",
    "# Checks once to see if entered pin is correct\n",
    "def checkPIN_once(truepin):\n",
    "    attempt = int(input('Please enter your PIN: '))\n",
    "    if attempt == truepin:\n",
    "        return (True)\n",
    "    else:\n",
    "        print (\"PIN incorrect\")\n",
    "        return (False)"
   ]
  },
  {
   "cell_type": "code",
   "execution_count": null,
   "metadata": {},
   "outputs": [],
   "source": [
    "# Test in this cell your definition for check_PIN and cashpoint functions"
   ]
  },
  {
   "cell_type": "markdown",
   "metadata": {},
   "source": [
    "<font size = \"4\">***ii) Withdrawal function***</font> \n",
    "\n",
    "Define a function to cover the withdrawal sub-task. So far, users have been allowed to withdraw any amount of money, which is unrealistic. Allow only withdrawals that do not put the account into the red. Also, assume there is a limit to the amount that can be withdrawn with any visit to the ATM, e.g. 100 pounds. If the user requests an amount of money that is not allowed, they\n",
    "should be told so, with a zero withdrawal amount being signalled (i.e. returned) to the higher level. As a further embellishment, withdrawal amounts might be restricted to multiples of 10."
   ]
  },
  {
   "cell_type": "code",
   "execution_count": null,
   "metadata": {},
   "outputs": [],
   "source": [
    "# Extra function that can be used when developing the withdrawal and mobile top-up functions\n",
    "\n",
    "# Function to return only £10 bills to the user    \n",
    "def multipleOfTen(amount):\n",
    "    return (amount == int(amount / 10.0) * 10)   "
   ]
  },
  {
   "cell_type": "code",
   "execution_count": null,
   "metadata": {},
   "outputs": [],
   "source": [
    "# Develop here the withdrawal function\n",
    "def withdrawal(balance):\n",
    "    maxWithdrawalAmount = 100.00\n",
    "    print (\"Withdrawal amount must be a multiple of 10 pounds.\")\n",
    "    amount = int(input('Please enter your withdrawal amount: '))"
   ]
  },
  {
   "cell_type": "markdown",
   "metadata": {},
   "source": [
    "<font size = \"4\">***iii) Mobile phone top-up function***</font> \n",
    "\n",
    "Define a function to provide reasonable mobile top-up functionality. This should require the user to enter the mobile number twice in succession, and check that the same value was entered both times. The money amount allowed for the top-up might be restricted to a multiple of 10, and to not exceed the current balance."
   ]
  },
  {
   "cell_type": "code",
   "execution_count": null,
   "metadata": {},
   "outputs": [],
   "source": [
    "# Insert here the mobile phone top-up function\n",
    "def mobileTopUp(balance):\n",
    "    maxTopUp = 100.00\n",
    "    print (\"Please enter the number of the mobile phone you wish to top-up: \",)\n",
    "    number1 = int(input())\n",
    "    print (\"Please RE-enter the number of the phone: \",)\n",
    "    number2 = int(input())"
   ]
  }
 ],
 "metadata": {
  "kernelspec": {
   "display_name": "Python 3",
   "language": "python",
   "name": "python3"
  },
  "language_info": {
   "codemirror_mode": {
    "name": "ipython",
    "version": 3
   },
   "file_extension": ".py",
   "mimetype": "text/x-python",
   "name": "python",
   "nbconvert_exporter": "python",
   "pygments_lexer": "ipython3",
   "version": "3.8.5"
  }
 },
 "nbformat": 4,
 "nbformat_minor": 1
}